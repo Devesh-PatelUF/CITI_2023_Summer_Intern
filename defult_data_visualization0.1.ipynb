{
 "cells": [
  {
   "attachments": {},
   "cell_type": "markdown",
   "metadata": {},
   "source": [
    "# Importing libraries"
   ]
  },
  {
   "cell_type": "code",
   "execution_count": 20,
   "metadata": {},
   "outputs": [],
   "source": [
    "#importing libraries\n",
    "import numpy as np\n",
    "import pandas as pd\n",
    "import matplotlib.pyplot as plt\n",
    "import os\n",
    "import seaborn as sns\n",
    "from sklearn.decomposition import PCA\n",
    "from sklearn.model_selection import train_test_split\n",
    "from sklearn.metrics import classification_report\n",
    "from sklearn.preprocessing import LabelEncoder, StandardScaler, MinMaxScaler\n",
    "%matplotlib inline"
   ]
  },
  {
   "attachments": {},
   "cell_type": "markdown",
   "metadata": {},
   "source": [
    "# Data Exploration and Visualization"
   ]
  },
  {
   "cell_type": "code",
   "execution_count": 42,
   "metadata": {},
   "outputs": [
    {
     "name": "stdout",
     "output_type": "stream",
     "text": [
      "   Id   Income  Age  Experience Married/Single House_Ownership Car_Ownership  \\\n",
      "0   1  1303834   23           3         single          rented            no   \n",
      "1   2  7574516   40          10         single          rented            no   \n",
      "2   3  3991815   66           4        married          rented            no   \n",
      "3   4  6256451   41           2         single          rented           yes   \n",
      "4   5  5768871   47          11         single          rented            no   \n",
      "\n",
      "            Profession                 CITY           STATE  CURRENT_JOB_YRS  \\\n",
      "0  Mechanical_engineer                 Rewa  Madhya_Pradesh                3   \n",
      "1   Software_Developer             Parbhani     Maharashtra                9   \n",
      "2     Technical_writer            Alappuzha          Kerala                4   \n",
      "3   Software_Developer          Bhubaneswar          Odisha                2   \n",
      "4        Civil_servant  Tiruchirappalli[10]      Tamil_Nadu                3   \n",
      "\n",
      "   CURRENT_HOUSE_YRS  Risk_Flag  \n",
      "0                 13          0  \n",
      "1                 13          0  \n",
      "2                 10          0  \n",
      "3                 12          1  \n",
      "4                 14          1  \n",
      "<class 'pandas.core.frame.DataFrame'>\n",
      "RangeIndex: 252000 entries, 0 to 251999\n",
      "Data columns (total 13 columns):\n",
      " #   Column             Non-Null Count   Dtype \n",
      "---  ------             --------------   ----- \n",
      " 0   Id                 252000 non-null  int64 \n",
      " 1   Income             252000 non-null  int64 \n",
      " 2   Age                252000 non-null  int64 \n",
      " 3   Experience         252000 non-null  int64 \n",
      " 4   Married/Single     252000 non-null  object\n",
      " 5   House_Ownership    252000 non-null  object\n",
      " 6   Car_Ownership      252000 non-null  object\n",
      " 7   Profession         252000 non-null  object\n",
      " 8   CITY               252000 non-null  object\n",
      " 9   STATE              252000 non-null  object\n",
      " 10  CURRENT_JOB_YRS    252000 non-null  int64 \n",
      " 11  CURRENT_HOUSE_YRS  252000 non-null  int64 \n",
      " 12  Risk_Flag          252000 non-null  int64 \n",
      "dtypes: int64(7), object(6)\n",
      "memory usage: 25.0+ MB\n"
     ]
    },
    {
     "data": {
      "text/html": [
       "<div>\n",
       "<style scoped>\n",
       "    .dataframe tbody tr th:only-of-type {\n",
       "        vertical-align: middle;\n",
       "    }\n",
       "\n",
       "    .dataframe tbody tr th {\n",
       "        vertical-align: top;\n",
       "    }\n",
       "\n",
       "    .dataframe thead th {\n",
       "        text-align: right;\n",
       "    }\n",
       "</style>\n",
       "<table border=\"1\" class=\"dataframe\">\n",
       "  <thead>\n",
       "    <tr style=\"text-align: right;\">\n",
       "      <th></th>\n",
       "      <th>Id</th>\n",
       "      <th>Income</th>\n",
       "      <th>Age</th>\n",
       "      <th>Experience</th>\n",
       "      <th>CURRENT_JOB_YRS</th>\n",
       "      <th>CURRENT_HOUSE_YRS</th>\n",
       "      <th>Risk_Flag</th>\n",
       "    </tr>\n",
       "  </thead>\n",
       "  <tbody>\n",
       "    <tr>\n",
       "      <th>count</th>\n",
       "      <td>252000.000000</td>\n",
       "      <td>2.520000e+05</td>\n",
       "      <td>252000.000000</td>\n",
       "      <td>252000.000000</td>\n",
       "      <td>252000.000000</td>\n",
       "      <td>252000.000000</td>\n",
       "      <td>252000.000000</td>\n",
       "    </tr>\n",
       "    <tr>\n",
       "      <th>mean</th>\n",
       "      <td>126000.500000</td>\n",
       "      <td>4.997117e+06</td>\n",
       "      <td>49.954071</td>\n",
       "      <td>10.084437</td>\n",
       "      <td>6.333877</td>\n",
       "      <td>11.997794</td>\n",
       "      <td>0.123000</td>\n",
       "    </tr>\n",
       "    <tr>\n",
       "      <th>std</th>\n",
       "      <td>72746.278255</td>\n",
       "      <td>2.878311e+06</td>\n",
       "      <td>17.063855</td>\n",
       "      <td>6.002590</td>\n",
       "      <td>3.647053</td>\n",
       "      <td>1.399037</td>\n",
       "      <td>0.328438</td>\n",
       "    </tr>\n",
       "    <tr>\n",
       "      <th>min</th>\n",
       "      <td>1.000000</td>\n",
       "      <td>1.031000e+04</td>\n",
       "      <td>21.000000</td>\n",
       "      <td>0.000000</td>\n",
       "      <td>0.000000</td>\n",
       "      <td>10.000000</td>\n",
       "      <td>0.000000</td>\n",
       "    </tr>\n",
       "    <tr>\n",
       "      <th>25%</th>\n",
       "      <td>63000.750000</td>\n",
       "      <td>2.503015e+06</td>\n",
       "      <td>35.000000</td>\n",
       "      <td>5.000000</td>\n",
       "      <td>3.000000</td>\n",
       "      <td>11.000000</td>\n",
       "      <td>0.000000</td>\n",
       "    </tr>\n",
       "    <tr>\n",
       "      <th>50%</th>\n",
       "      <td>126000.500000</td>\n",
       "      <td>5.000694e+06</td>\n",
       "      <td>50.000000</td>\n",
       "      <td>10.000000</td>\n",
       "      <td>6.000000</td>\n",
       "      <td>12.000000</td>\n",
       "      <td>0.000000</td>\n",
       "    </tr>\n",
       "    <tr>\n",
       "      <th>75%</th>\n",
       "      <td>189000.250000</td>\n",
       "      <td>7.477502e+06</td>\n",
       "      <td>65.000000</td>\n",
       "      <td>15.000000</td>\n",
       "      <td>9.000000</td>\n",
       "      <td>13.000000</td>\n",
       "      <td>0.000000</td>\n",
       "    </tr>\n",
       "    <tr>\n",
       "      <th>max</th>\n",
       "      <td>252000.000000</td>\n",
       "      <td>9.999938e+06</td>\n",
       "      <td>79.000000</td>\n",
       "      <td>20.000000</td>\n",
       "      <td>14.000000</td>\n",
       "      <td>14.000000</td>\n",
       "      <td>1.000000</td>\n",
       "    </tr>\n",
       "  </tbody>\n",
       "</table>\n",
       "</div>"
      ],
      "text/plain": [
       "                  Id        Income            Age     Experience  \\\n",
       "count  252000.000000  2.520000e+05  252000.000000  252000.000000   \n",
       "mean   126000.500000  4.997117e+06      49.954071      10.084437   \n",
       "std     72746.278255  2.878311e+06      17.063855       6.002590   \n",
       "min         1.000000  1.031000e+04      21.000000       0.000000   \n",
       "25%     63000.750000  2.503015e+06      35.000000       5.000000   \n",
       "50%    126000.500000  5.000694e+06      50.000000      10.000000   \n",
       "75%    189000.250000  7.477502e+06      65.000000      15.000000   \n",
       "max    252000.000000  9.999938e+06      79.000000      20.000000   \n",
       "\n",
       "       CURRENT_JOB_YRS  CURRENT_HOUSE_YRS      Risk_Flag  \n",
       "count    252000.000000      252000.000000  252000.000000  \n",
       "mean          6.333877          11.997794       0.123000  \n",
       "std           3.647053           1.399037       0.328438  \n",
       "min           0.000000          10.000000       0.000000  \n",
       "25%           3.000000          11.000000       0.000000  \n",
       "50%           6.000000          12.000000       0.000000  \n",
       "75%           9.000000          13.000000       0.000000  \n",
       "max          14.000000          14.000000       1.000000  "
      ]
     },
     "execution_count": 42,
     "metadata": {},
     "output_type": "execute_result"
    }
   ],
   "source": [
    "df = pd.read_csv(\"Training Data.csv\")\n",
    "print(df.head())\n",
    "df.info()\n",
    "df.describe()"
   ]
  },
  {
   "cell_type": "code",
   "execution_count": 61,
   "metadata": {},
   "outputs": [
    {
     "data": {
      "text/plain": [
       "<seaborn.axisgrid.FacetGrid at 0x20ad12c2160>"
      ]
     },
     "execution_count": 61,
     "metadata": {},
     "output_type": "execute_result"
    },
    {
     "data": {
      "image/png": "[encoded data removed]",
      "text/plain": [
       "<Figure size 576.361x500 with 1 Axes>"
      ]
     },
     "metadata": {},
     "output_type": "display_data"
    }
   ],
   "source": [
    "sns.displot(data = df, x = df.Income, hue = df.Risk_Flag)"
   ]
  },
  {
   "cell_type": "code",
   "execution_count": 62,
   "metadata": {},
   "outputs": [
    {
     "data": {
      "text/plain": [
       "<seaborn.axisgrid.FacetGrid at 0x20a84f197f0>"
      ]
     },
     "execution_count": 62,
     "metadata": {},
     "output_type": "execute_result"
    },
    {
     "data": {
      "image/png": "[encoded data removed]",
      "text/plain": [
       "<Figure size 576.361x500 with 1 Axes>"
      ]
     },
     "metadata": {},
     "output_type": "display_data"
    }
   ],
   "source": [
    "sns.displot(data = df, x = df.Age, hue = df.Risk_Flag)"
   ]
  },
  {
   "cell_type": "code",
   "execution_count": 55,
   "metadata": {},
   "outputs": [
    {
     "data": {
      "text/plain": [
       "<Axes: xlabel='Car_Ownership', ylabel='count'>"
      ]
     },
     "execution_count": 55,
     "metadata": {},
     "output_type": "execute_result"
    },
    {
     "data": {
      "image/png": "[encoded data removed]",
      "text/plain": [
       "<Figure size 640x480 with 1 Axes>"
      ]
     },
     "metadata": {},
     "output_type": "display_data"
    }
   ],
   "source": [
    "sns.countplot(x='Car_Ownership', hue='Risk_Flag', data=df)"
   ]
  },
  {
   "cell_type": "code",
   "execution_count": 56,
   "metadata": {},
   "outputs": [
    {
     "data": {
      "text/plain": [
       "<Axes: xlabel='Married/Single', ylabel='count'>"
      ]
     },
     "execution_count": 56,
     "metadata": {},
     "output_type": "execute_result"
    },
    {
     "data": {
      "image/png": "[encoded data removed]",
      "text/plain": [
       "<Figure size 640x480 with 1 Axes>"
      ]
     },
     "metadata": {},
     "output_type": "display_data"
    }
   ],
   "source": [
    "sns.countplot(x='Married/Single', hue='Risk_Flag', data=df)"
   ]
  },
  {
   "cell_type": "code",
   "execution_count": 25,
   "metadata": {},
   "outputs": [
    {
     "name": "stderr",
     "output_type": "stream",
     "text": [
      "C:\\Users\\Adam\\AppData\\Local\\Temp\\ipykernel_6136\\726115684.py:2: FutureWarning: The default value of numeric_only in DataFrame.corr is deprecated. In a future version, it will default to False. Select only valid columns or specify the value of numeric_only to silence this warning.\n",
      "  sns.heatmap(df.corr(), annot=True)\n"
     ]
    },
    {
     "data": {
      "text/plain": [
       "<Axes: >"
      ]
     },
     "execution_count": 25,
     "metadata": {},
     "output_type": "execute_result"
    },
    {
     "data": {
      "image/png": "[encoded data removed]",
      "text/plain": [
       "<Figure size 640x480 with 2 Axes>"
      ]
     },
     "metadata": {},
     "output_type": "display_data"
    }
   ],
   "source": [
    "#Shows corelation between variables\n",
    "sns.heatmap(df.corr(), annot=True)"
   ]
  },
  {
   "cell_type": "code",
   "execution_count": 68,
   "metadata": {},
   "outputs": [
    {
     "name": "stdout",
     "output_type": "stream",
     "text": [
      "['Mechanical_engineer' 'Software_Developer' 'Technical_writer'\n",
      " 'Civil_servant' 'Librarian' 'Economist' 'Flight_attendant' 'Architect'\n",
      " 'Designer' 'Physician']\n"
     ]
    },
    {
     "data": {
      "text/plain": [
       "51"
      ]
     },
     "execution_count": 68,
     "metadata": {},
     "output_type": "execute_result"
    }
   ],
   "source": [
    "print(df.Profession.unique()[:10])\n",
    "len(df.Profession.unique())\n"
   ]
  },
  {
   "cell_type": "code",
   "execution_count": 67,
   "metadata": {},
   "outputs": [
    {
     "data": {
      "text/html": [
       "<div>\n",
       "<style scoped>\n",
       "    .dataframe tbody tr th:only-of-type {\n",
       "        vertical-align: middle;\n",
       "    }\n",
       "\n",
       "    .dataframe tbody tr th {\n",
       "        vertical-align: top;\n",
       "    }\n",
       "\n",
       "    .dataframe thead th {\n",
       "        text-align: right;\n",
       "    }\n",
       "</style>\n",
       "<table border=\"1\" class=\"dataframe\">\n",
       "  <thead>\n",
       "    <tr style=\"text-align: right;\">\n",
       "      <th>Profession</th>\n",
       "      <th>Petroleum_Engineer</th>\n",
       "      <th>Psychologist</th>\n",
       "      <th>Designer</th>\n",
       "      <th>Scientist</th>\n",
       "      <th>Surgeon</th>\n",
       "      <th>Comedian</th>\n",
       "      <th>Chemical_engineer</th>\n",
       "      <th>Mechanical_engineer</th>\n",
       "      <th>Artist</th>\n",
       "      <th>Financial_Analyst</th>\n",
       "      <th>...</th>\n",
       "      <th>Design_Engineer</th>\n",
       "      <th>Chef</th>\n",
       "      <th>Engineer</th>\n",
       "      <th>Physician</th>\n",
       "      <th>Magistrate</th>\n",
       "      <th>Civil_engineer</th>\n",
       "      <th>Official</th>\n",
       "      <th>Drafter</th>\n",
       "      <th>Flight_attendant</th>\n",
       "      <th>Police_officer</th>\n",
       "    </tr>\n",
       "  </thead>\n",
       "  <tbody>\n",
       "    <tr>\n",
       "      <th>min</th>\n",
       "      <td>2.292100e+04</td>\n",
       "      <td>3.322400e+04</td>\n",
       "      <td>1.284100e+04</td>\n",
       "      <td>1.379200e+04</td>\n",
       "      <td>1.821500e+04</td>\n",
       "      <td>1.342900e+04</td>\n",
       "      <td>2.692600e+04</td>\n",
       "      <td>3.705700e+04</td>\n",
       "      <td>3.129700e+04</td>\n",
       "      <td>1.766000e+04</td>\n",
       "      <td>...</td>\n",
       "      <td>4.476100e+04</td>\n",
       "      <td>1.173500e+04</td>\n",
       "      <td>1.031000e+04</td>\n",
       "      <td>1.260800e+04</td>\n",
       "      <td>1.621200e+04</td>\n",
       "      <td>2.567400e+04</td>\n",
       "      <td>1.362900e+04</td>\n",
       "      <td>1.493600e+04</td>\n",
       "      <td>1.169500e+04</td>\n",
       "      <td>1.322000e+04</td>\n",
       "    </tr>\n",
       "    <tr>\n",
       "      <th>max</th>\n",
       "      <td>9.968353e+06</td>\n",
       "      <td>9.985964e+06</td>\n",
       "      <td>9.996946e+06</td>\n",
       "      <td>9.975985e+06</td>\n",
       "      <td>9.995445e+06</td>\n",
       "      <td>9.984983e+06</td>\n",
       "      <td>9.984718e+06</td>\n",
       "      <td>9.990505e+06</td>\n",
       "      <td>9.976619e+06</td>\n",
       "      <td>9.990776e+06</td>\n",
       "      <td>...</td>\n",
       "      <td>9.962923e+06</td>\n",
       "      <td>9.977117e+06</td>\n",
       "      <td>9.993649e+06</td>\n",
       "      <td>9.987805e+06</td>\n",
       "      <td>9.982430e+06</td>\n",
       "      <td>9.992141e+06</td>\n",
       "      <td>9.993041e+06</td>\n",
       "      <td>9.999180e+06</td>\n",
       "      <td>9.979070e+06</td>\n",
       "      <td>9.999938e+06</td>\n",
       "    </tr>\n",
       "    <tr>\n",
       "      <th>mean</th>\n",
       "      <td>5.443310e+06</td>\n",
       "      <td>5.357795e+06</td>\n",
       "      <td>5.336802e+06</td>\n",
       "      <td>5.282710e+06</td>\n",
       "      <td>5.235359e+06</td>\n",
       "      <td>5.199539e+06</td>\n",
       "      <td>5.189805e+06</td>\n",
       "      <td>5.175032e+06</td>\n",
       "      <td>5.164765e+06</td>\n",
       "      <td>5.145753e+06</td>\n",
       "      <td>...</td>\n",
       "      <td>4.840221e+06</td>\n",
       "      <td>4.839915e+06</td>\n",
       "      <td>4.814755e+06</td>\n",
       "      <td>4.780384e+06</td>\n",
       "      <td>4.769920e+06</td>\n",
       "      <td>4.755441e+06</td>\n",
       "      <td>4.737617e+06</td>\n",
       "      <td>4.654805e+06</td>\n",
       "      <td>4.592177e+06</td>\n",
       "      <td>4.502916e+06</td>\n",
       "    </tr>\n",
       "  </tbody>\n",
       "</table>\n",
       "<p>3 rows × 51 columns</p>\n",
       "</div>"
      ],
      "text/plain": [
       "Profession  Petroleum_Engineer  Psychologist      Designer     Scientist  \\\n",
       "min               2.292100e+04  3.322400e+04  1.284100e+04  1.379200e+04   \n",
       "max               9.968353e+06  9.985964e+06  9.996946e+06  9.975985e+06   \n",
       "mean              5.443310e+06  5.357795e+06  5.336802e+06  5.282710e+06   \n",
       "\n",
       "Profession       Surgeon      Comedian  Chemical_engineer  \\\n",
       "min         1.821500e+04  1.342900e+04       2.692600e+04   \n",
       "max         9.995445e+06  9.984983e+06       9.984718e+06   \n",
       "mean        5.235359e+06  5.199539e+06       5.189805e+06   \n",
       "\n",
       "Profession  Mechanical_engineer        Artist  Financial_Analyst  ...  \\\n",
       "min                3.705700e+04  3.129700e+04       1.766000e+04  ...   \n",
       "max                9.990505e+06  9.976619e+06       9.990776e+06  ...   \n",
       "mean               5.175032e+06  5.164765e+06       5.145753e+06  ...   \n",
       "\n",
       "Profession  Design_Engineer          Chef      Engineer     Physician  \\\n",
       "min            4.476100e+04  1.173500e+04  1.031000e+04  1.260800e+04   \n",
       "max            9.962923e+06  9.977117e+06  9.993649e+06  9.987805e+06   \n",
       "mean           4.840221e+06  4.839915e+06  4.814755e+06  4.780384e+06   \n",
       "\n",
       "Profession    Magistrate  Civil_engineer      Official       Drafter  \\\n",
       "min         1.621200e+04    2.567400e+04  1.362900e+04  1.493600e+04   \n",
       "max         9.982430e+06    9.992141e+06  9.993041e+06  9.999180e+06   \n",
       "mean        4.769920e+06    4.755441e+06  4.737617e+06  4.654805e+06   \n",
       "\n",
       "Profession  Flight_attendant  Police_officer  \n",
       "min             1.169500e+04    1.322000e+04  \n",
       "max             9.979070e+06    9.999938e+06  \n",
       "mean            4.592177e+06    4.502916e+06  \n",
       "\n",
       "[3 rows x 51 columns]"
      ]
     },
     "execution_count": 67,
     "metadata": {},
     "output_type": "execute_result"
    }
   ],
   "source": [
    "df.groupby(\"Profession\")[\"Income\"].agg([\"min\", \"max\", \"mean\"]).sort_values(by=\"mean\", ascending=False).T"
   ]
  },
  {
   "cell_type": "code",
   "execution_count": 70,
   "metadata": {},
   "outputs": [
    {
     "name": "stdout",
     "output_type": "stream",
     "text": [
      "['Rewa' 'Parbhani' 'Alappuzha' 'Bhubaneswar' 'Tiruchirappalli' 'Jalgaon'\n",
      " 'Tiruppur' 'Jamnagar' 'Kota' 'Karimnagar']\n"
     ]
    },
    {
     "data": {
      "text/plain": [
       "316"
      ]
     },
     "execution_count": 70,
     "metadata": {},
     "output_type": "execute_result"
    }
   ],
   "source": [
    "df.CITY = df.CITY.str.extract(\"([A-Za-z]+)\")\n",
    "print(df.CITY.unique()[:10])\n",
    "len(df.CITY.unique())"
   ]
  },
  {
   "cell_type": "code",
   "execution_count": 71,
   "metadata": {},
   "outputs": [
    {
     "name": "stdout",
     "output_type": "stream",
     "text": [
      "['Madhya' 'Maharashtra' 'Kerala' 'Odisha' 'Tamil' 'Gujarat' 'Rajasthan'\n",
      " 'Telangana' 'Bihar' 'Andhra']\n"
     ]
    },
    {
     "data": {
      "text/plain": [
       "28"
      ]
     },
     "execution_count": 71,
     "metadata": {},
     "output_type": "execute_result"
    }
   ],
   "source": [
    "df.STATE = df.STATE.str.extract(\"([A-Za-z]+)\")\n",
    "print(df.STATE.unique()[:10])\n",
    "len(df.STATE.unique())"
   ]
  },
  {
   "cell_type": "code",
   "execution_count": 19,
   "metadata": {},
   "outputs": [
    {
     "data": {
      "text/html": [
       "<div>\n",
       "<style scoped>\n",
       "    .dataframe tbody tr th:only-of-type {\n",
       "        vertical-align: middle;\n",
       "    }\n",
       "\n",
       "    .dataframe tbody tr th {\n",
       "        vertical-align: top;\n",
       "    }\n",
       "\n",
       "    .dataframe thead th {\n",
       "        text-align: right;\n",
       "    }\n",
       "</style>\n",
       "<table border=\"1\" class=\"dataframe\">\n",
       "  <thead>\n",
       "    <tr style=\"text-align: right;\">\n",
       "      <th></th>\n",
       "      <th>Id</th>\n",
       "      <th>Income</th>\n",
       "      <th>Age</th>\n",
       "      <th>Experience</th>\n",
       "      <th>Married/Single</th>\n",
       "      <th>House_Ownership</th>\n",
       "      <th>Car_Ownership</th>\n",
       "      <th>Profession</th>\n",
       "      <th>CITY</th>\n",
       "      <th>STATE</th>\n",
       "      <th>CURRENT_JOB_YRS</th>\n",
       "      <th>CURRENT_HOUSE_YRS</th>\n",
       "      <th>Risk_Flag</th>\n",
       "    </tr>\n",
       "  </thead>\n",
       "  <tbody>\n",
       "    <tr>\n",
       "      <th>0</th>\n",
       "      <td>1</td>\n",
       "      <td>1303834</td>\n",
       "      <td>23</td>\n",
       "      <td>3</td>\n",
       "      <td>single</td>\n",
       "      <td>rented</td>\n",
       "      <td>no</td>\n",
       "      <td>Mechanical_engineer</td>\n",
       "      <td>Rewa</td>\n",
       "      <td>Madhya</td>\n",
       "      <td>3</td>\n",
       "      <td>13</td>\n",
       "      <td>0</td>\n",
       "    </tr>\n",
       "    <tr>\n",
       "      <th>1</th>\n",
       "      <td>2</td>\n",
       "      <td>7574516</td>\n",
       "      <td>40</td>\n",
       "      <td>10</td>\n",
       "      <td>single</td>\n",
       "      <td>rented</td>\n",
       "      <td>no</td>\n",
       "      <td>Software_Developer</td>\n",
       "      <td>Parbhani</td>\n",
       "      <td>Maharashtra</td>\n",
       "      <td>9</td>\n",
       "      <td>13</td>\n",
       "      <td>0</td>\n",
       "    </tr>\n",
       "    <tr>\n",
       "      <th>2</th>\n",
       "      <td>3</td>\n",
       "      <td>3991815</td>\n",
       "      <td>66</td>\n",
       "      <td>4</td>\n",
       "      <td>married</td>\n",
       "      <td>rented</td>\n",
       "      <td>no</td>\n",
       "      <td>Technical_writer</td>\n",
       "      <td>Alappuzha</td>\n",
       "      <td>Kerala</td>\n",
       "      <td>4</td>\n",
       "      <td>10</td>\n",
       "      <td>0</td>\n",
       "    </tr>\n",
       "    <tr>\n",
       "      <th>3</th>\n",
       "      <td>4</td>\n",
       "      <td>6256451</td>\n",
       "      <td>41</td>\n",
       "      <td>2</td>\n",
       "      <td>single</td>\n",
       "      <td>rented</td>\n",
       "      <td>yes</td>\n",
       "      <td>Software_Developer</td>\n",
       "      <td>Bhubaneswar</td>\n",
       "      <td>Odisha</td>\n",
       "      <td>2</td>\n",
       "      <td>12</td>\n",
       "      <td>1</td>\n",
       "    </tr>\n",
       "    <tr>\n",
       "      <th>4</th>\n",
       "      <td>5</td>\n",
       "      <td>5768871</td>\n",
       "      <td>47</td>\n",
       "      <td>11</td>\n",
       "      <td>single</td>\n",
       "      <td>rented</td>\n",
       "      <td>no</td>\n",
       "      <td>Civil_servant</td>\n",
       "      <td>Tiruchirappalli</td>\n",
       "      <td>Tamil</td>\n",
       "      <td>3</td>\n",
       "      <td>14</td>\n",
       "      <td>1</td>\n",
       "    </tr>\n",
       "  </tbody>\n",
       "</table>\n",
       "</div>"
      ],
      "text/plain": [
       "   Id   Income  Age  Experience Married/Single House_Ownership Car_Ownership  \\\n",
       "0   1  1303834   23           3         single          rented            no   \n",
       "1   2  7574516   40          10         single          rented            no   \n",
       "2   3  3991815   66           4        married          rented            no   \n",
       "3   4  6256451   41           2         single          rented           yes   \n",
       "4   5  5768871   47          11         single          rented            no   \n",
       "\n",
       "            Profession             CITY        STATE  CURRENT_JOB_YRS  \\\n",
       "0  Mechanical_engineer             Rewa       Madhya                3   \n",
       "1   Software_Developer         Parbhani  Maharashtra                9   \n",
       "2     Technical_writer        Alappuzha       Kerala                4   \n",
       "3   Software_Developer      Bhubaneswar       Odisha                2   \n",
       "4        Civil_servant  Tiruchirappalli        Tamil                3   \n",
       "\n",
       "   CURRENT_HOUSE_YRS  Risk_Flag  \n",
       "0                 13          0  \n",
       "1                 13          0  \n",
       "2                 10          0  \n",
       "3                 12          1  \n",
       "4                 14          1  "
      ]
     },
     "execution_count": 19,
     "metadata": {},
     "output_type": "execute_result"
    }
   ],
   "source": [
    "df.head()"
   ]
  },
  {
   "cell_type": "code",
   "execution_count": 21,
   "metadata": {},
   "outputs": [],
   "source": [
    "df1 = df\n",
    "features = ['Married/Single','Car_Ownership','Profession','CITY','STATE']\n",
    "label_encoder = LabelEncoder()\n",
    "\n",
    "for col in features:\n",
    "    df1[col] = label_encoder.fit_transform(df[col])"
   ]
  },
  {
   "cell_type": "code",
   "execution_count": 22,
   "metadata": {},
   "outputs": [],
   "source": [
    "df1 = pd.get_dummies(df1, columns = [\"House_Ownership\"])\n",
    "df1.drop([\"Id\"],axis=1,inplace=True)"
   ]
  },
  {
   "cell_type": "code",
   "execution_count": 23,
   "metadata": {},
   "outputs": [
    {
     "data": {
      "text/html": [
       "<div>\n",
       "<style scoped>\n",
       "    .dataframe tbody tr th:only-of-type {\n",
       "        vertical-align: middle;\n",
       "    }\n",
       "\n",
       "    .dataframe tbody tr th {\n",
       "        vertical-align: top;\n",
       "    }\n",
       "\n",
       "    .dataframe thead th {\n",
       "        text-align: right;\n",
       "    }\n",
       "</style>\n",
       "<table border=\"1\" class=\"dataframe\">\n",
       "  <thead>\n",
       "    <tr style=\"text-align: right;\">\n",
       "      <th></th>\n",
       "      <th>Income</th>\n",
       "      <th>Age</th>\n",
       "      <th>Experience</th>\n",
       "      <th>Married/Single</th>\n",
       "      <th>Car_Ownership</th>\n",
       "      <th>Profession</th>\n",
       "      <th>CITY</th>\n",
       "      <th>STATE</th>\n",
       "      <th>CURRENT_JOB_YRS</th>\n",
       "      <th>CURRENT_HOUSE_YRS</th>\n",
       "      <th>Risk_Flag</th>\n",
       "      <th>House_Ownership_norent_noown</th>\n",
       "      <th>House_Ownership_owned</th>\n",
       "      <th>House_Ownership_rented</th>\n",
       "    </tr>\n",
       "  </thead>\n",
       "  <tbody>\n",
       "    <tr>\n",
       "      <th>0</th>\n",
       "      <td>1303834</td>\n",
       "      <td>23</td>\n",
       "      <td>3</td>\n",
       "      <td>1</td>\n",
       "      <td>0</td>\n",
       "      <td>33</td>\n",
       "      <td>250</td>\n",
       "      <td>13</td>\n",
       "      <td>3</td>\n",
       "      <td>13</td>\n",
       "      <td>0</td>\n",
       "      <td>0</td>\n",
       "      <td>0</td>\n",
       "      <td>1</td>\n",
       "    </tr>\n",
       "    <tr>\n",
       "      <th>1</th>\n",
       "      <td>7574516</td>\n",
       "      <td>40</td>\n",
       "      <td>10</td>\n",
       "      <td>1</td>\n",
       "      <td>0</td>\n",
       "      <td>43</td>\n",
       "      <td>226</td>\n",
       "      <td>14</td>\n",
       "      <td>9</td>\n",
       "      <td>13</td>\n",
       "      <td>0</td>\n",
       "      <td>0</td>\n",
       "      <td>0</td>\n",
       "      <td>1</td>\n",
       "    </tr>\n",
       "    <tr>\n",
       "      <th>2</th>\n",
       "      <td>3991815</td>\n",
       "      <td>66</td>\n",
       "      <td>4</td>\n",
       "      <td>0</td>\n",
       "      <td>0</td>\n",
       "      <td>47</td>\n",
       "      <td>8</td>\n",
       "      <td>12</td>\n",
       "      <td>4</td>\n",
       "      <td>10</td>\n",
       "      <td>0</td>\n",
       "      <td>0</td>\n",
       "      <td>0</td>\n",
       "      <td>1</td>\n",
       "    </tr>\n",
       "    <tr>\n",
       "      <th>3</th>\n",
       "      <td>6256451</td>\n",
       "      <td>41</td>\n",
       "      <td>2</td>\n",
       "      <td>1</td>\n",
       "      <td>1</td>\n",
       "      <td>43</td>\n",
       "      <td>53</td>\n",
       "      <td>17</td>\n",
       "      <td>2</td>\n",
       "      <td>12</td>\n",
       "      <td>1</td>\n",
       "      <td>0</td>\n",
       "      <td>0</td>\n",
       "      <td>1</td>\n",
       "    </tr>\n",
       "    <tr>\n",
       "      <th>4</th>\n",
       "      <td>5768871</td>\n",
       "      <td>47</td>\n",
       "      <td>11</td>\n",
       "      <td>1</td>\n",
       "      <td>0</td>\n",
       "      <td>11</td>\n",
       "      <td>295</td>\n",
       "      <td>22</td>\n",
       "      <td>3</td>\n",
       "      <td>14</td>\n",
       "      <td>1</td>\n",
       "      <td>0</td>\n",
       "      <td>0</td>\n",
       "      <td>1</td>\n",
       "    </tr>\n",
       "  </tbody>\n",
       "</table>\n",
       "</div>"
      ],
      "text/plain": [
       "    Income  Age  Experience  Married/Single  Car_Ownership  Profession  CITY  \\\n",
       "0  1303834   23           3               1              0          33   250   \n",
       "1  7574516   40          10               1              0          43   226   \n",
       "2  3991815   66           4               0              0          47     8   \n",
       "3  6256451   41           2               1              1          43    53   \n",
       "4  5768871   47          11               1              0          11   295   \n",
       "\n",
       "   STATE  CURRENT_JOB_YRS  CURRENT_HOUSE_YRS  Risk_Flag  \\\n",
       "0     13                3                 13          0   \n",
       "1     14                9                 13          0   \n",
       "2     12                4                 10          0   \n",
       "3     17                2                 12          1   \n",
       "4     22                3                 14          1   \n",
       "\n",
       "   House_Ownership_norent_noown  House_Ownership_owned  House_Ownership_rented  \n",
       "0                             0                      0                       1  \n",
       "1                             0                      0                       1  \n",
       "2                             0                      0                       1  \n",
       "3                             0                      0                       1  \n",
       "4                             0                      0                       1  "
      ]
     },
     "execution_count": 23,
     "metadata": {},
     "output_type": "execute_result"
    }
   ],
   "source": [
    "df1.head()"
   ]
  },
  {
   "cell_type": "code",
   "execution_count": null,
   "metadata": {},
   "outputs": [],
   "source": []
  }
 ],
 "metadata": {
  "kernelspec": {
   "display_name": "citi_env",
   "language": "python",
   "name": "python3"
  },
  "language_info": {
   "codemirror_mode": {
    "name": "ipython",
    "version": 3
   },
   "file_extension": ".py",
   "mimetype": "text/x-python",
   "name": "python",
   "nbconvert_exporter": "python",
   "pygments_lexer": "ipython3",
   "version": "3.9.5"
  },
  "orig_nbformat": 4
 },
 "nbformat": 4,
 "nbformat_minor": 2
}
